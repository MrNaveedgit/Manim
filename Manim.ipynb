{
  "nbformat": 4,
  "nbformat_minor": 0,
  "metadata": {
    "colab": {
      "name": "Manim.ipynb",
      "provenance": [],
      "collapsed_sections": []
    },
    "kernelspec": {
      "name": "python3",
      "display_name": "Python 3"
    },
    "language_info": {
      "name": "python"
    },
    "accelerator": "GPU"
  },
  "cells": [
    {
      "cell_type": "code",
      "execution_count": null,
      "metadata": {
        "id": "Z4s8qdZLxAOH"
      },
      "outputs": [],
      "source": [
        "!sudo apt update\n",
        "!sudo apt install libcairo2-dev ffmpeg \\\n",
        "    texlive texlive-latex-extra texlive-fonts-extra \\\n",
        "    texlive-latex-recommended texlive-science \\\n",
        "    tipa libpango1.0-dev\n",
        "!pip install manim\n",
        "!pip install IPython --upgrade"
      ]
    },
    {
      "cell_type": "code",
      "source": [
        "from manim import *"
      ],
      "metadata": {
        "id": "sbsvCwCCxDLM"
      },
      "execution_count": null,
      "outputs": []
    },
    {
      "cell_type": "markdown",
      "source": [
        "## CreateCircle"
      ],
      "metadata": {
        "id": "jEBlNHYxkpQ9"
      }
    },
    {
      "cell_type": "code",
      "source": [
        "%%manim -qm -v WARNING CreateCircle\n",
        "\n",
        "class CreateCircle(Scene):\n",
        "    def construct(self):\n",
        "        circle = Circle()  # create a circle\n",
        "        circle.set_fill(PINK, opacity=0.5)  # set the color and transparency\n",
        "        self.play(Create(circle))  # show the circle on screen"
      ],
      "metadata": {
        "id": "7zwZev1Dygl6"
      },
      "execution_count": null,
      "outputs": []
    },
    {
      "cell_type": "markdown",
      "source": [
        "## SquareToCircle"
      ],
      "metadata": {
        "id": "QjTPjiI5ksTt"
      }
    },
    {
      "cell_type": "code",
      "source": [
        "%%manim -qm -v WARNING SquareToCircle\n",
        "\n",
        "class SquareToCircle(Scene):\n",
        "   def construct(self):\n",
        "      square = Square()\n",
        "      circle = Circle()\n",
        "      circle.set_fill(PINK, opacity=0.5)\n",
        "      self.play(Create(square))\n",
        "      self.play(Transform(square, circle))\n",
        "      self.wait()"
      ],
      "metadata": {
        "id": "-LE7P2wfxFRC"
      },
      "execution_count": null,
      "outputs": []
    },
    {
      "cell_type": "markdown",
      "source": [
        "## SineCurveUnitCircle"
      ],
      "metadata": {
        "id": "GTx_CqGvkvvk"
      }
    },
    {
      "cell_type": "code",
      "source": [
        "%%manim -qm -v WARNING SineCurveUnitCircle\n",
        "\n",
        "class SineCurveUnitCircle(Scene):\n",
        "    def construct(self):\n",
        "        self.show_axis()\n",
        "        self.show_circle()\n",
        "        self.move_dot_and_draw_curve()\n",
        "        self.wait()\n",
        "\n",
        "    def show_axis(self):\n",
        "        x_start = np.array([-6,0,0])\n",
        "        x_end = np.array([6,0,0])\n",
        "\n",
        "        y_start = np.array([-4,-2,0])\n",
        "        y_end = np.array([-4,2,0])\n",
        "\n",
        "        x_axis = Line(x_start, x_end)\n",
        "        y_axis = Line(y_start, y_end)\n",
        "\n",
        "        self.add(x_axis, y_axis)\n",
        "        self.add_x_labels()\n",
        "\n",
        "        self.origin_point = np.array([-4,0,0])\n",
        "        self.curve_start = np.array([-3,0,0])\n",
        "\n",
        "    def add_x_labels(self):\n",
        "        x_labels = [\n",
        "            MathTex(\"\\pi\"), MathTex(\"2 \\pi\"),\n",
        "            MathTex(\"3 \\pi\"), MathTex(\"4 \\pi\"),\n",
        "        ]\n",
        "\n",
        "        for i in range(len(x_labels)):\n",
        "            x_labels[i].next_to(np.array([-1 + 2*i, 0, 0]), DOWN)\n",
        "            self.add(x_labels[i])\n",
        "\n",
        "    def show_circle(self):\n",
        "        circle = Circle(radius=1)\n",
        "        circle.move_to(self.origin_point)\n",
        "        self.add(circle)\n",
        "        self.circle = circle\n",
        "\n",
        "    def move_dot_and_draw_curve(self):\n",
        "        orbit = self.circle\n",
        "        origin_point = self.origin_point\n",
        "\n",
        "        dot = Dot(radius=0.08, color=YELLOW)\n",
        "        dot.move_to(orbit.point_from_proportion(0))\n",
        "        self.t_offset = 0\n",
        "        rate = 0.25\n",
        "\n",
        "        def go_around_circle(mob, dt):\n",
        "            self.t_offset += (dt * rate)\n",
        "            # print(self.t_offset)\n",
        "            mob.move_to(orbit.point_from_proportion(self.t_offset % 1))\n",
        "\n",
        "        def get_line_to_circle():\n",
        "            return Line(origin_point, dot.get_center(), color=BLUE)\n",
        "\n",
        "        def get_line_to_curve():\n",
        "            x = self.curve_start[0] + self.t_offset * 4\n",
        "            y = dot.get_center()[1]\n",
        "            return Line(dot.get_center(), np.array([x,y,0]), color=YELLOW_A, stroke_width=2 )\n",
        "\n",
        "\n",
        "        self.curve = VGroup()\n",
        "        self.curve.add(Line(self.curve_start,self.curve_start))\n",
        "        def get_curve():\n",
        "            last_line = self.curve[-1]\n",
        "            x = self.curve_start[0] + self.t_offset * 4\n",
        "            y = dot.get_center()[1]\n",
        "            new_line = Line(last_line.get_end(),np.array([x,y,0]), color=YELLOW_D)\n",
        "            self.curve.add(new_line)\n",
        "\n",
        "            return self.curve\n",
        "\n",
        "        dot.add_updater(go_around_circle)\n",
        "\n",
        "        origin_to_circle_line = always_redraw(get_line_to_circle)\n",
        "        dot_to_curve_line = always_redraw(get_line_to_curve)\n",
        "        sine_curve_line = always_redraw(get_curve)\n",
        "\n",
        "        self.add(dot)\n",
        "        self.add(orbit, origin_to_circle_line, dot_to_curve_line, sine_curve_line)\n",
        "        self.wait(8.5)\n",
        "\n",
        "        dot.remove_updater(go_around_circle)"
      ],
      "metadata": {
        "id": "AyIKLdwaoyhm"
      },
      "execution_count": null,
      "outputs": []
    },
    {
      "cell_type": "markdown",
      "source": [
        "## FollowingGraphCamera"
      ],
      "metadata": {
        "id": "1ZhpT1mPkxpx"
      }
    },
    {
      "cell_type": "code",
      "source": [
        "%%manim -qm -v WARNING FollowingGraphCamera\n",
        "class FollowingGraphCamera(MovingCameraScene):\n",
        "    def construct(self):\n",
        "        self.camera.frame.save_state()\n",
        "\n",
        "        # create the axes and the curve\n",
        "        ax = Axes(x_range=[-1, 10], y_range=[-1, 10])\n",
        "        graph = ax.plot(lambda x: np.sin(x), color=BLUE, x_range=[0, 3 * PI])\n",
        "\n",
        "        # create dots based on the graph\n",
        "        moving_dot = Dot(ax.i2gp(graph.t_min, graph), color=ORANGE)\n",
        "        dot_1 = Dot(ax.i2gp(graph.t_min, graph))\n",
        "        dot_2 = Dot(ax.i2gp(graph.t_max, graph))\n",
        "\n",
        "        self.add(ax, graph, dot_1, dot_2, moving_dot)\n",
        "        self.play(self.camera.frame.animate.scale(0.5).move_to(moving_dot))\n",
        "\n",
        "        def update_curve(mob):\n",
        "            mob.move_to(moving_dot.get_center())\n",
        "\n",
        "        self.camera.frame.add_updater(update_curve)\n",
        "        self.play(MoveAlongPath(moving_dot, graph, rate_func=linear))\n",
        "        self.camera.frame.remove_updater(update_curve)\n",
        "\n",
        "        self.play(Restore(self.camera.frame))"
      ],
      "metadata": {
        "id": "lwg8lvKWzhZB"
      },
      "execution_count": null,
      "outputs": []
    },
    {
      "cell_type": "markdown",
      "source": [
        "## ArgMinExample"
      ],
      "metadata": {
        "id": "HpWLY6v4k1DN"
      }
    },
    {
      "cell_type": "code",
      "source": [
        "%%manim -qm -v WARNING ArgMinExample\n",
        "\n",
        "class ArgMinExample(Scene):\n",
        "    def construct(self):\n",
        "        ax = Axes(\n",
        "            x_range=[0, 10], y_range=[0, 100, 10], axis_config={\"include_tip\": False}\n",
        "        )\n",
        "        labels = ax.get_axis_labels(x_label=\"x\", y_label=\"f(x)\")\n",
        "\n",
        "        t = ValueTracker(0)\n",
        "\n",
        "        def func(x):\n",
        "            return 2 * (x - 5) ** 2\n",
        "        graph = ax.plot(func, color=MAROON)\n",
        "\n",
        "        initial_point = [ax.coords_to_point(t.get_value(), func(t.get_value()))]\n",
        "        dot = Dot(point=initial_point)\n",
        "\n",
        "        dot.add_updater(lambda x: x.move_to(ax.c2p(t.get_value(), func(t.get_value()))))\n",
        "        x_space = np.linspace(*ax.x_range[:2],200)\n",
        "        minimum_index = func(x_space).argmin()\n",
        "\n",
        "        self.add(ax, labels, graph, dot)\n",
        "        self.play(t.animate.set_value(x_space[minimum_index]))\n",
        "        self.wait()"
      ],
      "metadata": {
        "id": "bthSk-cp0IsC"
      },
      "execution_count": null,
      "outputs": []
    },
    {
      "cell_type": "markdown",
      "source": [
        "## MovingAngle"
      ],
      "metadata": {
        "id": "9ZWoC79Qk4Fo"
      }
    },
    {
      "cell_type": "code",
      "source": [
        "%%manim -qm -v WARNING MovingAngle\n",
        "\n",
        "class MovingAngle(Scene):\n",
        "    def construct(self):\n",
        "        rotation_center = LEFT\n",
        "\n",
        "        theta_tracker = ValueTracker(110)\n",
        "        line1 = Line(LEFT, RIGHT)\n",
        "        line_moving = Line(LEFT, RIGHT)\n",
        "        line_ref = line_moving.copy()\n",
        "        line_moving.rotate(\n",
        "            theta_tracker.get_value() * DEGREES, about_point=rotation_center\n",
        "        )\n",
        "        a = Angle(line1, line_moving, radius=0.5, other_angle=False)\n",
        "        tex = MathTex(r\"\\theta\").move_to(\n",
        "            Angle(\n",
        "                line1, line_moving, radius=0.5 + 3 * SMALL_BUFF, other_angle=False\n",
        "            ).point_from_proportion(0.5)\n",
        "        )\n",
        "\n",
        "        self.add(line1, line_moving, a, tex)\n",
        "        self.wait()\n",
        "\n",
        "        line_moving.add_updater(\n",
        "            lambda x: x.become(line_ref.copy()).rotate(\n",
        "                theta_tracker.get_value() * DEGREES, about_point=rotation_center\n",
        "            )\n",
        "        )\n",
        "\n",
        "        a.add_updater(\n",
        "            lambda x: x.become(Angle(line1, line_moving, radius=0.5, other_angle=False))\n",
        "        )\n",
        "        tex.add_updater(\n",
        "            lambda x: x.move_to(\n",
        "                Angle(\n",
        "                    line1, line_moving, radius=0.5 + 3 * SMALL_BUFF, other_angle=False\n",
        "                ).point_from_proportion(0.5)\n",
        "            )\n",
        "        )\n",
        "\n",
        "        self.play(theta_tracker.animate.set_value(40))\n",
        "        self.play(theta_tracker.animate.increment_value(140))\n",
        "        self.play(tex.animate.set_color(RED), run_time=0.5)\n",
        "        self.play(theta_tracker.animate.set_value(350))"
      ],
      "metadata": {
        "id": "bnvuRJ_h0Utl"
      },
      "execution_count": null,
      "outputs": []
    },
    {
      "cell_type": "markdown",
      "source": [
        "## BooleanOperations"
      ],
      "metadata": {
        "id": "5OwBDhZuk-Nt"
      }
    },
    {
      "cell_type": "code",
      "source": [
        "%%manim -qm -v WARNING BooleanOperations\n",
        "\n",
        "class BooleanOperations(Scene):\n",
        "    def construct(self):\n",
        "        ellipse1 = Ellipse(\n",
        "            width=4.0, height=5.0, fill_opacity=0.5, color=BLUE, stroke_width=10\n",
        "        ).move_to(LEFT)\n",
        "        ellipse2 = ellipse1.copy().set_color(color=RED).move_to(RIGHT)\n",
        "        bool_ops_text = MarkupText(\"<u>Boolean Operation</u>\").next_to(ellipse1, UP * 3)\n",
        "        ellipse_group = Group(bool_ops_text, ellipse1, ellipse2).move_to(LEFT * 3)\n",
        "        self.play(FadeIn(ellipse_group))\n",
        "\n",
        "        i = Intersection(ellipse1, ellipse2, color=GREEN, fill_opacity=0.5)\n",
        "        self.play(i.animate.scale(0.25).move_to(RIGHT * 5 + UP * 2.5))\n",
        "        intersection_text = Text(\"Intersection\", font_size=23).next_to(i, UP)\n",
        "        self.play(FadeIn(intersection_text))\n",
        "\n",
        "        u = Union(ellipse1, ellipse2, color=ORANGE, fill_opacity=0.5)\n",
        "        union_text = Text(\"Union\", font_size=23)\n",
        "        self.play(u.animate.scale(0.3).next_to(i, DOWN, buff=union_text.height * 3))\n",
        "        union_text.next_to(u, UP)\n",
        "        self.play(FadeIn(union_text))\n",
        "\n",
        "        e = Exclusion(ellipse1, ellipse2, color=YELLOW, fill_opacity=0.5)\n",
        "        exclusion_text = Text(\"Exclusion\", font_size=23)\n",
        "        self.play(e.animate.scale(0.3).next_to(u, DOWN, buff=exclusion_text.height * 3.5))\n",
        "        exclusion_text.next_to(e, UP)\n",
        "        self.play(FadeIn(exclusion_text))\n",
        "\n",
        "        d = Difference(ellipse1, ellipse2, color=PINK, fill_opacity=0.5)\n",
        "        difference_text = Text(\"Difference\", font_size=23)\n",
        "        self.play(d.animate.scale(0.3).next_to(u, LEFT, buff=difference_text.height * 3.5))\n",
        "        difference_text.next_to(d, UP)\n",
        "        self.play(FadeIn(difference_text))"
      ],
      "metadata": {
        "id": "RT0_pN5iy8ei"
      },
      "execution_count": null,
      "outputs": []
    }
  ]
}